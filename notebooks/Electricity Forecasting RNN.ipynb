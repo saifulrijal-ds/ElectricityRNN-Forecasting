{
 "cells": [
  {
   "cell_type": "markdown",
   "metadata": {},
   "source": [
    "# Electricity Forcasting - RNN\n",
    "Notebook ini merupakan bentuk *re-practice* dari course [Datacamp: Intermediate Deep Learning with Pytorch](https://app.datacamp.com/learn/courses/intermediate-deep-learning-with-pytorch) pada bab **Sequances & Recurrent Neural Networks**.\n",
    "\n",
    "Task yang dikerjakan adalah memprediksi konsumsi listrik berdasarkan pola masa lalu.\n",
    "\n",
    "Data yang digunakan sama dengan data yang disampaikan dalam course yang merupakan subset data bersumber pada [ElectricityLoadDiagrams20112014](https://doi.org/10.24432/C58C86)."
   ]
  },
  {
   "cell_type": "code",
   "execution_count": 1,
   "metadata": {},
   "outputs": [
    {
     "name": "stdout",
     "output_type": "stream",
     "text": [
      "timestamp,consumption\n",
      "2011-01-01 00:15:00,-0.7043185184993116\n",
      "2011-01-01 00:30:00,-0.7043185184993116\n",
      "2011-01-01 00:45:00,-0.6789826341438515\n",
      "2011-01-01 01:00:00,-0.6536467497883897\n",
      "2011-01-01 01:15:00,-0.7043185184993116\n",
      "2011-01-01 01:30:00,-0.7043185184993116\n",
      "2011-01-01 01:45:00,-0.7299077616983259\n",
      "2011-01-01 02:00:00,-0.7043185184993116\n",
      "2011-01-01 02:15:00,-0.7043185184993116\n"
     ]
    }
   ],
   "source": [
    "%%bash\n",
    "head ../data/electricity_consump/electricity_train.csv"
   ]
  },
  {
   "cell_type": "markdown",
   "metadata": {},
   "source": [
    "Data berisi *consumption* dalam kilowatts atau kW, dan dicatat setiap 15 menit dalam beberapa tahun. *Split* data berdasarkan waktu:\n",
    "- **Train**: 2011-2023\n",
    "- **Test**: 2014"
   ]
  },
  {
   "cell_type": "code",
   "execution_count": 2,
   "metadata": {},
   "outputs": [],
   "source": [
    "import numpy as np\n",
    "import pandas as pd"
   ]
  },
  {
   "cell_type": "markdown",
   "metadata": {},
   "source": [
    "_**Sequench length**_ merupakan jumlah data poin dalam satu *training example*. Kita akan memprediksi berdasarkan data 24 jam sebelumnya, dan satu jam terdapat 4 record (data poin), sehingga *sequench length* sama dengan:\n",
    "$$24 \\times 4 = 96$$"
   ]
  },
  {
   "cell_type": "code",
   "execution_count": 3,
   "metadata": {},
   "outputs": [],
   "source": [
    "seq_length = 96"
   ]
  },
  {
   "cell_type": "code",
   "execution_count": 4,
   "metadata": {},
   "outputs": [
    {
     "data": {
      "text/html": [
       "<div>\n",
       "<style scoped>\n",
       "    .dataframe tbody tr th:only-of-type {\n",
       "        vertical-align: middle;\n",
       "    }\n",
       "\n",
       "    .dataframe tbody tr th {\n",
       "        vertical-align: top;\n",
       "    }\n",
       "\n",
       "    .dataframe thead th {\n",
       "        text-align: right;\n",
       "    }\n",
       "</style>\n",
       "<table border=\"1\" class=\"dataframe\">\n",
       "  <thead>\n",
       "    <tr style=\"text-align: right;\">\n",
       "      <th></th>\n",
       "      <th>timestamp</th>\n",
       "      <th>consumption</th>\n",
       "    </tr>\n",
       "  </thead>\n",
       "  <tbody>\n",
       "    <tr>\n",
       "      <th>0</th>\n",
       "      <td>2011-01-01 00:15:00</td>\n",
       "      <td>-0.704319</td>\n",
       "    </tr>\n",
       "    <tr>\n",
       "      <th>1</th>\n",
       "      <td>2011-01-01 00:30:00</td>\n",
       "      <td>-0.704319</td>\n",
       "    </tr>\n",
       "    <tr>\n",
       "      <th>2</th>\n",
       "      <td>2011-01-01 00:45:00</td>\n",
       "      <td>-0.678983</td>\n",
       "    </tr>\n",
       "    <tr>\n",
       "      <th>3</th>\n",
       "      <td>2011-01-01 01:00:00</td>\n",
       "      <td>-0.653647</td>\n",
       "    </tr>\n",
       "    <tr>\n",
       "      <th>4</th>\n",
       "      <td>2011-01-01 01:15:00</td>\n",
       "      <td>-0.704319</td>\n",
       "    </tr>\n",
       "  </tbody>\n",
       "</table>\n",
       "</div>"
      ],
      "text/plain": [
       "             timestamp  consumption\n",
       "0  2011-01-01 00:15:00    -0.704319\n",
       "1  2011-01-01 00:30:00    -0.704319\n",
       "2  2011-01-01 00:45:00    -0.678983\n",
       "3  2011-01-01 01:00:00    -0.653647\n",
       "4  2011-01-01 01:15:00    -0.704319"
      ]
     },
     "execution_count": 4,
     "metadata": {},
     "output_type": "execute_result"
    }
   ],
   "source": [
    "train_df = pd.read_csv(\"../data/electricity_consump/electricity_train.csv\")\n",
    "train_df.head()"
   ]
  },
  {
   "cell_type": "code",
   "execution_count": 5,
   "metadata": {},
   "outputs": [
    {
     "data": {
      "text/plain": [
       "(105215, 2)"
      ]
     },
     "execution_count": 5,
     "metadata": {},
     "output_type": "execute_result"
    }
   ],
   "source": [
    "train_df.shape"
   ]
  },
  {
   "cell_type": "code",
   "execution_count": 6,
   "metadata": {},
   "outputs": [],
   "source": [
    "def create_sequences(df, seq_length):\n",
    "    xs, ys = [], []\n",
    "    for i in range(len(df) - seq_length):\n",
    "        x = df.iloc[i:(i+seq_length), 1]\n",
    "        y = df.iloc[i+seq_length, 1]\n",
    "        xs.append(x)\n",
    "        ys.append(y)\n",
    "    return np.array(xs), np.array(ys)"
   ]
  },
  {
   "cell_type": "code",
   "execution_count": 7,
   "metadata": {},
   "outputs": [],
   "source": [
    "X_train, y_train = create_sequences(train_df, seq_length)"
   ]
  },
  {
   "cell_type": "markdown",
   "metadata": {},
   "source": [
    "## TensorDataset"
   ]
  },
  {
   "cell_type": "code",
   "execution_count": 8,
   "metadata": {},
   "outputs": [],
   "source": [
    "import torch\n",
    "from torch.utils.data import TensorDataset, DataLoader"
   ]
  },
  {
   "cell_type": "code",
   "execution_count": 9,
   "metadata": {},
   "outputs": [],
   "source": [
    "dataset_train = TensorDataset(\n",
    "    torch.from_numpy(X_train).float(),\n",
    "    torch.from_numpy(y_train).float()\n",
    ")"
   ]
  },
  {
   "cell_type": "code",
   "execution_count": 10,
   "metadata": {},
   "outputs": [
    {
     "data": {
      "text/plain": [
       "<torch.utils.data.dataset.TensorDataset at 0x769be836bed0>"
      ]
     },
     "execution_count": 10,
     "metadata": {},
     "output_type": "execute_result"
    }
   ],
   "source": [
    "dataset_train"
   ]
  },
  {
   "cell_type": "code",
   "execution_count": 11,
   "metadata": {},
   "outputs": [
    {
     "data": {
      "text/plain": [
       "(tensor([-0.7043, -0.7043, -0.6790, -0.6536, -0.7043, -0.7043, -0.7299, -0.7043,\n",
       "         -0.7043, -0.6790, -0.6790, -0.6283, -0.6790, -0.7299, -0.7299, -0.7299,\n",
       "         -0.7043, -0.6790, -0.7043, -0.7552, -0.6790, -0.6790, -0.6790, -0.6536,\n",
       "         -0.7299, -0.7043, -0.6790, -0.6790, -0.7043, -0.7299, -0.7043, -0.7299,\n",
       "         -0.6790, -0.7043, -0.7552, -0.9073, -1.0089, -0.9579, -0.9326, -0.9833,\n",
       "         -0.9833, -1.0089, -0.9833, -1.0089, -0.9833, -0.9579, -0.9579, -0.9579,\n",
       "         -0.9579, -1.0089, -0.9833, -0.9579, -0.9833, -0.9833, -1.0089, -0.9579,\n",
       "         -0.9326, -1.0089, -0.9833, -0.9326, -0.9833, -1.0342, -0.9833, -0.9833,\n",
       "         -0.8566, -0.6790, -0.7299, -0.7299, -0.7043, -0.7043, -0.7299, -0.7043,\n",
       "         -0.7043, -0.6790, -0.6790, -0.6536, -0.6790, -0.6536, -0.6790, -0.7043,\n",
       "         -0.7043, -0.7299, -0.7299, -0.6790, -0.6536, -0.7299, -0.7043, -0.7299,\n",
       "         -0.7299, -0.6283, -0.6536, -0.7043, -0.7043, -0.6536, -0.7299, -0.7043]),\n",
       " tensor(-0.7043))"
      ]
     },
     "execution_count": 11,
     "metadata": {},
     "output_type": "execute_result"
    }
   ],
   "source": [
    "dataset_train[0]"
   ]
  },
  {
   "cell_type": "code",
   "execution_count": 12,
   "metadata": {},
   "outputs": [
    {
     "data": {
      "text/plain": [
       "(tensor([ 0.8483,  0.7720,  0.7213,  0.6957,  0.7720,  0.7467,  0.7467,  0.7467,\n",
       "          0.7720,  0.7213,  0.6957,  0.7213, -0.1973,  0.6957,  0.6957, -0.3494,\n",
       "         -0.9073, -0.8819, -0.8566, -0.8819, -0.8566, -0.8566, -0.8313, -0.8313,\n",
       "         -0.8819, -0.8566, -0.8819, -0.8819, -0.8566, -0.8313, -0.8566, -0.8313,\n",
       "          0.5941,  0.7467,  0.5941,  0.4416,  0.3144,  0.2128,  0.3144,  0.3398,\n",
       "          0.3398,  0.5432,  0.6451,  0.1873,  0.4416, -0.1720, -0.1464, -0.0958,\n",
       "         -0.1464, -0.1211, -0.0958, -0.1211, -0.1211, -0.2227, -0.2227, -0.2227,\n",
       "         -0.3240, -0.3494, -0.4254, -0.2734, -0.3240,  0.4923,  0.6195,  0.5941,\n",
       "          0.5688,  0.6704,  0.8483,  0.9755,  1.1026,  1.0008,  0.9501,  0.8992,\n",
       "          0.4670, -0.3747, -0.4510, -0.4763, -0.5016, -0.5270, -0.5523, -0.6030,\n",
       "         -0.6536, -0.6536, -0.7299, -0.7299, -0.7299, -0.7806, -0.8313, -0.8313,\n",
       "         -0.8819, -0.9073, -0.9073, -0.9326, -0.9326, -0.9073, -0.9326, -0.9326]),\n",
       " tensor(-0.9326))"
      ]
     },
     "execution_count": 12,
     "metadata": {},
     "output_type": "execute_result"
    }
   ],
   "source": [
    "dataset_train[-1]"
   ]
  },
  {
   "cell_type": "code",
   "execution_count": 13,
   "metadata": {},
   "outputs": [
    {
     "data": {
      "text/plain": [
       "105119"
      ]
     },
     "execution_count": 13,
     "metadata": {},
     "output_type": "execute_result"
    }
   ],
   "source": [
    "dataset_train.__len__()"
   ]
  },
  {
   "cell_type": "code",
   "execution_count": 14,
   "metadata": {},
   "outputs": [],
   "source": [
    "dataloader_train = DataLoader(dataset_train, batch_size=16)"
   ]
  },
  {
   "cell_type": "markdown",
   "metadata": {},
   "source": [
    "## RNN in PyTorch"
   ]
  },
  {
   "cell_type": "code",
   "execution_count": 15,
   "metadata": {},
   "outputs": [],
   "source": [
    "import torch.nn as nn"
   ]
  },
  {
   "cell_type": "code",
   "execution_count": 16,
   "metadata": {},
   "outputs": [],
   "source": [
    "class Net(nn.Module):\n",
    "    def __init__(self):\n",
    "        super().__init__()\n",
    "        self.rnn = nn.RNN(\n",
    "            input_size=1,\n",
    "            hidden_size=32,\n",
    "            num_layers=2,\n",
    "            batch_first=True\n",
    "        )\n",
    "        self.fc = nn.Linear(32, 1)\n",
    "\n",
    "    def forward(self, x):\n",
    "        h0 = torch.zeros(2, x.size(0), 32)\n",
    "        out, _ = self.rnn(x, h0)\n",
    "        out = self.fc(out[:, -1, :])\n",
    "        return out"
   ]
  },
  {
   "cell_type": "code",
   "execution_count": 17,
   "metadata": {},
   "outputs": [],
   "source": [
    "net = Net()"
   ]
  },
  {
   "cell_type": "markdown",
   "metadata": {},
   "source": [
    "### Training"
   ]
  },
  {
   "cell_type": "code",
   "execution_count": 18,
   "metadata": {},
   "outputs": [],
   "source": [
    "import torch.optim as optim"
   ]
  },
  {
   "cell_type": "code",
   "execution_count": 19,
   "metadata": {},
   "outputs": [],
   "source": [
    "criterion = nn.MSELoss()\n",
    "optimizer = optim.Adam(\n",
    "    net.parameters(), lr=0.001\n",
    ")"
   ]
  },
  {
   "cell_type": "markdown",
   "metadata": {},
   "source": [
    "Recurrent layer membutuhkan bentuk input `(batch_size, seq_length, num_features)`"
   ]
  },
  {
   "cell_type": "code",
   "execution_count": 20,
   "metadata": {},
   "outputs": [],
   "source": [
    "num_epochs = 100"
   ]
  },
  {
   "cell_type": "code",
   "execution_count": 21,
   "metadata": {},
   "outputs": [],
   "source": [
    "# for epoch in range(num_epochs):\n",
    "#     for seqs, labels in dataloader_train:\n",
    "#         seqs = seqs.view(16, 96, 1)\n",
    "#         outputs = net(seqs)\n",
    "#         loss = criterion(outputs, labels)\n",
    "#         optimizer.zero_grad()\n",
    "#         loss.backward()\n",
    "#         optimizer.step()"
   ]
  },
  {
   "cell_type": "code",
   "execution_count": null,
   "metadata": {},
   "outputs": [],
   "source": []
  }
 ],
 "metadata": {
  "kernelspec": {
   "display_name": "pytorch_env",
   "language": "python",
   "name": "python3"
  },
  "language_info": {
   "codemirror_mode": {
    "name": "ipython",
    "version": 3
   },
   "file_extension": ".py",
   "mimetype": "text/x-python",
   "name": "python",
   "nbconvert_exporter": "python",
   "pygments_lexer": "ipython3",
   "version": "3.11.9"
  }
 },
 "nbformat": 4,
 "nbformat_minor": 2
}
