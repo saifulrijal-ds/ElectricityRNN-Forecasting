{
 "cells": [
  {
   "cell_type": "markdown",
   "metadata": {},
   "source": [
    "# Electricity Forcasting - RNN\n",
    "Notebook ini merupakan bentuk *re-practice* dari course [Datacamp: Intermediate Deep Learning with Pytorch](https://app.datacamp.com/learn/courses/intermediate-deep-learning-with-pytorch) pada bab **Sequances & Recurrent Neural Networks**.\n",
    "\n",
    "Task yang dikerjakan adalah memprediksi konsumsi listrik berdasarkan pola masa lalu.\n",
    "\n",
    "Data yang digunakan sama dengan data yang disampaikan dalam course yang merupakan subset data bersumber pada [ElectricityLoadDiagrams20112014](https://doi.org/10.24432/C58C86)."
   ]
  },
  {
   "cell_type": "code",
   "execution_count": 3,
   "metadata": {},
   "outputs": [
    {
     "name": "stdout",
     "output_type": "stream",
     "text": [
      "timestamp,consumption\n",
      "2011-01-01 00:15:00,-0.7043185184993116\n",
      "2011-01-01 00:30:00,-0.7043185184993116\n",
      "2011-01-01 00:45:00,-0.6789826341438515\n",
      "2011-01-01 01:00:00,-0.6536467497883897\n",
      "2011-01-01 01:15:00,-0.7043185184993116\n",
      "2011-01-01 01:30:00,-0.7043185184993116\n",
      "2011-01-01 01:45:00,-0.7299077616983259\n",
      "2011-01-01 02:00:00,-0.7043185184993116\n",
      "2011-01-01 02:15:00,-0.7043185184993116\n"
     ]
    }
   ],
   "source": [
    "%%bash\n",
    "head ../data/electricity_consump/electricity_train.csv"
   ]
  },
  {
   "cell_type": "markdown",
   "metadata": {},
   "source": [
    "Data berisi *consumption* dalam kilowatts atau kW, dan dicatat setiap 15 menit dalam beberapa tahun. *Split* data berdasarkan waktu:\n",
    "- **Train**: 2011-2023\n",
    "- **Test**: 2014"
   ]
  },
  {
   "cell_type": "markdown",
   "metadata": {},
   "source": [
    "_**Sequench length**_ merupakan jumlah data poin dalam satu *training example*. Kita akan memprediksi berdasarkan data 24 jam sebelumnya, dan satu jam terdapat 4 record (data poin), sehingga *sequench length* sama dengan:\n",
    "$$24 \\times 4 = 96$$"
   ]
  },
  {
   "cell_type": "code",
   "execution_count": 5,
   "metadata": {},
   "outputs": [],
   "source": [
    "import numpy as np\n",
    "import pandas as pd"
   ]
  },
  {
   "cell_type": "code",
   "execution_count": 7,
   "metadata": {},
   "outputs": [
    {
     "data": {
      "text/html": [
       "<div>\n",
       "<style scoped>\n",
       "    .dataframe tbody tr th:only-of-type {\n",
       "        vertical-align: middle;\n",
       "    }\n",
       "\n",
       "    .dataframe tbody tr th {\n",
       "        vertical-align: top;\n",
       "    }\n",
       "\n",
       "    .dataframe thead th {\n",
       "        text-align: right;\n",
       "    }\n",
       "</style>\n",
       "<table border=\"1\" class=\"dataframe\">\n",
       "  <thead>\n",
       "    <tr style=\"text-align: right;\">\n",
       "      <th></th>\n",
       "      <th>timestamp</th>\n",
       "      <th>consumption</th>\n",
       "    </tr>\n",
       "  </thead>\n",
       "  <tbody>\n",
       "    <tr>\n",
       "      <th>0</th>\n",
       "      <td>2011-01-01 00:15:00</td>\n",
       "      <td>-0.704319</td>\n",
       "    </tr>\n",
       "    <tr>\n",
       "      <th>1</th>\n",
       "      <td>2011-01-01 00:30:00</td>\n",
       "      <td>-0.704319</td>\n",
       "    </tr>\n",
       "    <tr>\n",
       "      <th>2</th>\n",
       "      <td>2011-01-01 00:45:00</td>\n",
       "      <td>-0.678983</td>\n",
       "    </tr>\n",
       "    <tr>\n",
       "      <th>3</th>\n",
       "      <td>2011-01-01 01:00:00</td>\n",
       "      <td>-0.653647</td>\n",
       "    </tr>\n",
       "    <tr>\n",
       "      <th>4</th>\n",
       "      <td>2011-01-01 01:15:00</td>\n",
       "      <td>-0.704319</td>\n",
       "    </tr>\n",
       "  </tbody>\n",
       "</table>\n",
       "</div>"
      ],
      "text/plain": [
       "             timestamp  consumption\n",
       "0  2011-01-01 00:15:00    -0.704319\n",
       "1  2011-01-01 00:30:00    -0.704319\n",
       "2  2011-01-01 00:45:00    -0.678983\n",
       "3  2011-01-01 01:00:00    -0.653647\n",
       "4  2011-01-01 01:15:00    -0.704319"
      ]
     },
     "execution_count": 7,
     "metadata": {},
     "output_type": "execute_result"
    }
   ],
   "source": [
    "train_df = pd.read_csv(\"../data/electricity_consump/electricity_train.csv\")\n",
    "train_df.head()"
   ]
  },
  {
   "cell_type": "code",
   "execution_count": null,
   "metadata": {},
   "outputs": [],
   "source": []
  }
 ],
 "metadata": {
  "kernelspec": {
   "display_name": "pytorch_env",
   "language": "python",
   "name": "python3"
  },
  "language_info": {
   "codemirror_mode": {
    "name": "ipython",
    "version": 3
   },
   "file_extension": ".py",
   "mimetype": "text/x-python",
   "name": "python",
   "nbconvert_exporter": "python",
   "pygments_lexer": "ipython3",
   "version": "3.11.9"
  }
 },
 "nbformat": 4,
 "nbformat_minor": 2
}
